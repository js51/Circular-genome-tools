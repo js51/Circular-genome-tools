{
 "cells": [
  {
   "cell_type": "markdown",
   "source": [
    "# Genomes as weighted sums of permutations in `cgt`\n",
    "First, import the package and everything from the enums module. `cgt` includes enums for every set of options so that your editor can provide you with the options available"
   ],
   "metadata": {}
  },
  {
   "cell_type": "code",
   "execution_count": 1,
   "source": [
    "import cgt\n",
    "from cgt.enums import *"
   ],
   "outputs": [],
   "metadata": {}
  },
  {
   "cell_type": "markdown",
   "source": [
    "We can define a `PositionParadigmFramework` under which we will model genomes. We can choose a number of regions to model, whether or not we want to capture orientation of the DNA in those regions, and the symmetry of the genome (for example, linear or circular). For now we will choose to model oriented, circular genomes with 4 regions. Printing the framework shows us a unique string representation."
   ],
   "metadata": {}
  },
  {
   "cell_type": "code",
   "execution_count": 2,
   "source": [
    "framework = cgt.PositionParadigmFramework(4, oriented=True, symmetry=SYMMETRY.circular)\n",
    "print(framework)"
   ],
   "outputs": [
    {
     "output_type": "stream",
     "name": "stdout",
     "text": [
      "Framework for circular genomes with 4 oriented regions\n"
     ]
    }
   ],
   "metadata": {}
  },
  {
   "cell_type": "markdown",
   "source": [
    "Right away, we can take a look at a genome. By default, genomes are weighted sums of all the permutations we can use to represent them. The larger the symmetry group, the more terms in the sum. We can think of the coefficients as the proability of obtaining the corresponding instance if we arbitrarily fixed the genome positions (ignoring the symmetry)."
   ],
   "metadata": {}
  },
  {
   "cell_type": "code",
   "execution_count": 3,
   "source": [
    "genome = framework.random_genome()\n",
    "print(genome)"
   ],
   "outputs": [
    {
     "output_type": "stream",
     "name": "stdout",
     "text": [
      "1/8*(2,4,-2,-4) + 1/8*(1,2)(3,4,-3,-4)(-2,-1) + 1/8*(1,3)(4,-4)(-3,-1) + 1/8*(1,4,-1,-4)(2,3)(-3,-2) + 1/8*(1,-4,-3,2,-1,4,3,-2) + 1/8*(1,-3)(2,-4,-2,4)(3,-1) + 1/8*(1,-2,3,-4,-1,2,-3,4) + 1/8*(1,-1)(2,-2)(3,-3)\n"
     ]
    }
   ],
   "metadata": {}
  },
  {
   "cell_type": "markdown",
   "source": [
    "We can view the genome in other ways, too. Select a random permutation representing the above genome. These are referred to as genome instances"
   ],
   "metadata": {}
  },
  {
   "cell_type": "code",
   "execution_count": 4,
   "source": [
    "instance = framework.random_instance(genome)\n",
    "print(instance)"
   ],
   "outputs": [
    {
     "output_type": "stream",
     "name": "stdout",
     "text": [
      "(1,-2,3,-4,-1,2,-3,4)\n"
     ]
    }
   ],
   "metadata": {}
  },
  {
   "cell_type": "markdown",
   "source": [
    "Each genome has a canonical instance. Here canonical means the instance which maps region 1 to position 1. The instance is returned in one_row notation."
   ],
   "metadata": {}
  },
  {
   "cell_type": "code",
   "execution_count": 5,
   "source": [
    "canonical_instance = framework.canonical_instance(instance)\n",
    "print(canonical_instance)"
   ],
   "outputs": [
    {
     "output_type": "stream",
     "name": "stdout",
     "text": [
      "[1, 4, 3, -2]\n"
     ]
    }
   ],
   "metadata": {}
  },
  {
   "cell_type": "markdown",
   "source": [
    "...but can be convered back to cycle notation easily."
   ],
   "metadata": {}
  },
  {
   "cell_type": "code",
   "execution_count": 6,
   "source": [
    "canonical_instance = framework.cycles(canonical_instance)\n",
    "print(canonical_instance)"
   ],
   "outputs": [
    {
     "output_type": "stream",
     "name": "stdout",
     "text": [
      "(2,4,-2,-4)\n"
     ]
    }
   ],
   "metadata": {}
  },
  {
   "cell_type": "markdown",
   "source": [
    "We can obtain the genome from a given instace, canonical or otherwise."
   ],
   "metadata": {}
  },
  {
   "cell_type": "code",
   "execution_count": 7,
   "source": [
    "new_genome = framework.genome(instance, format=FORMAT.formal_sum)\n",
    "print(genome == new_genome)"
   ],
   "outputs": [
    {
     "output_type": "stream",
     "name": "stdout",
     "text": [
      "True\n"
     ]
    }
   ],
   "metadata": {}
  },
  {
   "cell_type": "markdown",
   "source": [
    "Below, we can see that the canonical instance from above also represents a linear genome. There are two terms because there are two ways to represent a linear genome, since we can flip the whole genome over."
   ],
   "metadata": {}
  },
  {
   "cell_type": "code",
   "execution_count": 8,
   "source": [
    "print(cgt.PositionParadigmFramework(4, symmetry=SYMMETRY.linear).genome(canonical_instance, format=FORMAT.formal_sum))"
   ],
   "outputs": [
    {
     "output_type": "stream",
     "name": "stdout",
     "text": [
      "1/2*(2,4,-2,-4) + 1/2*(1,-4,-3,2,-1,4,3,-2)\n"
     ]
    }
   ],
   "metadata": {}
  },
  {
   "cell_type": "markdown",
   "source": [
    "In general though, it is best to not move between frameworks like this."
   ],
   "metadata": {}
  },
  {
   "cell_type": "markdown",
   "source": [
    "# Defining a model"
   ],
   "metadata": {}
  },
  {
   "cell_type": "markdown",
   "source": [
    "To model genome rearrangements, we need to define a set of possible rearrangements, and the probability each rearrangement has of occuring. This is simple to do in `cgt` for a range of different models. Below we define a model allowing inversions of single regions or pairs of adjacent regions, and specify that it is twice as likely to see a single region inversion. We can print the model's `generating_dictionary` to see the permutations that generate the model under conjugation by the symmety group."
   ],
   "metadata": {}
  },
  {
   "cell_type": "code",
   "execution_count": 9,
   "source": [
    "model = cgt.Model.named_model_with_relative_probs(framework, {\n",
    "    cgt.MODEL.one_region_inversions: 2/3,\n",
    "    cgt.MODEL.two_region_inversions: 1/3\n",
    "})\n",
    "print(model.generating_dictionary)"
   ],
   "outputs": [
    {
     "output_type": "stream",
     "name": "stdout",
     "text": [
      "{(1,-1): 2/3, (1,-2)(2,-1): 1/3}\n"
     ]
    }
   ],
   "metadata": {}
  },
  {
   "cell_type": "markdown",
   "source": [
    "We can also obtain the `s` element as defined in [how do I do references in a notebook??]"
   ],
   "metadata": {}
  },
  {
   "cell_type": "code",
   "execution_count": 10,
   "source": [
    "s = model.s_element(in_algebra=ALGEBRA.genome)\n",
    "print(s, '\\n ...or, in the group algebra:\\n', model.s_element(in_algebra=ALGEBRA.group))"
   ],
   "outputs": [
    {
     "output_type": "stream",
     "name": "stdout",
     "text": [
      "1/3*(1,-2)(2,-1) + 2/3*(1,-1) \n",
      " ...or, in the group algebra:\n",
      " 1/6*(4,-4) + 1/12*(3,-4)(4,-3) + 1/6*(3,-3) + 1/12*(2,-3)(3,-2) + 1/6*(2,-2) + 1/12*(1,-4)(4,-1) + 1/12*(1,-2)(2,-1) + 1/6*(1,-1)\n"
     ]
    }
   ],
   "metadata": {}
  },
  {
   "cell_type": "markdown",
   "source": [
    "To obtain the 'model element' in the genome algebra, we can multiply `s` by the symmetry element. Note that the order of the multiplication is reveresed, since `SageMath` multiplies permutations from left to right."
   ],
   "metadata": {}
  },
  {
   "cell_type": "code",
   "execution_count": 11,
   "source": [
    "z = framework.symmetry_element()\n",
    "zs = s*z\n",
    "print(zs)"
   ],
   "outputs": [
    {
     "output_type": "stream",
     "name": "stdout",
     "text": [
      "1/24*(3,-4)(4,-3) + 1/12*(2,-4)(3,-3)(4,-2) + 1/24*(1,2,3,-1,-2,-3)(4,-4) + 1/12*(1,2,-1,-2)(3,-4)(4,-3) + 1/24*(1,3,-2,-4)(2,4,-1,-3) + 1/12*(1,3,-1,-3)(2,-2)(4,-4) + 1/24*(1,4,-2,-1,-4,2)(3,-3) + 1/12*(1,4,-1,-4)(2,-3)(3,-2) + 1/12*(1,-4,-3,-2,-1,4,3,2) + 1/24*(1,-4,-2,3)(2,-3,-1,4) + 1/12*(1,-3,-1,3)(2,4)(-4,-2) + 1/24*(1,-3,-4,-1,3,4)(2,-2) + 1/12*(1,-2,-3,-4,-1,2,3,4) + 1/24*(1,-2)(2,-1) + 1/12*(1,-1) + 1/24*(1,-1)(2,-4,-3,-2,4,3)\n"
     ]
    }
   ],
   "metadata": {}
  },
  {
   "cell_type": "markdown",
   "source": [
    "# Applying rearrangements"
   ],
   "metadata": {}
  },
  {
   "cell_type": "markdown",
   "source": [
    "not done yet!"
   ],
   "metadata": {}
  },
  {
   "cell_type": "markdown",
   "source": [
    "# Computing maximum likelihood estimates"
   ],
   "metadata": {}
  },
  {
   "cell_type": "markdown",
   "source": [
    "One of the primary purposes of `cgt` is computing likelihood functions for time elapsed during the transformation from the reference genome into a given genome. The computation involves computing irreducible representations and projection matrices, but the syntax for computing the estimates is straightforward. For this notebook, we will take genomes with just 4 regions, because the initial computation of the irreducibles is not instant for larger numbers of regions. Note however that `cgt` will only compute these irreps once for each framework.\n",
    "\n",
    "First, take a particular genome instance of interest, and compute the likelihood function."
   ],
   "metadata": {}
  },
  {
   "cell_type": "code",
   "execution_count": 12,
   "source": [
    "from cgt.distances import likelihood_function\n",
    "instance = framework.cycles([1, -2, 3, -4])\n",
    "L = likelihood_function(framework, model, instance, attempt_exact=True)"
   ],
   "outputs": [],
   "metadata": {}
  },
  {
   "cell_type": "markdown",
   "source": [
    "We can of course evaluate the likelihood function at a given point very quickly"
   ],
   "metadata": {}
  },
  {
   "cell_type": "code",
   "execution_count": 13,
   "source": [
    "print([round(L(t), 4) for t in [0, 2, 4, 8]])"
   ],
   "outputs": [
    {
     "output_type": "stream",
     "name": "stdout",
     "text": [
      "[0.0, 0.0196, 0.0229, 0.0214]\n"
     ]
    }
   ],
   "metadata": {}
  },
  {
   "cell_type": "markdown",
   "source": [
    "More importantly, we can obtain the maximum"
   ],
   "metadata": {}
  },
  {
   "cell_type": "code",
   "execution_count": 14,
   "source": [
    "from cgt.distances import maximise\n",
    "maximise(framework, L)"
   ],
   "outputs": [
    {
     "output_type": "execute_result",
     "data": {
      "text/plain": [
       "3.794389749020202"
      ]
     },
     "metadata": {},
     "execution_count": 14
    }
   ],
   "metadata": {}
  },
  {
   "cell_type": "markdown",
   "source": [
    "The maximise function requires the framework, because it uses additional information to aid the optimiser. Specifically, it uses the fact that the likelihood function converges to the inverse of the number of genomes "
   ],
   "metadata": {}
  },
  {
   "cell_type": "code",
   "execution_count": 15,
   "source": [
    "print(f\"Function should converge to {float(framework.symmetry_group().order()/framework.genome_group().order())}\")"
   ],
   "outputs": [
    {
     "output_type": "stream",
     "name": "stdout",
     "text": [
      "Function should converge to 0.020833333333333332\n"
     ]
    }
   ],
   "metadata": {}
  },
  {
   "cell_type": "markdown",
   "source": [
    "We can plot the likelihood function using `matplotlib`'s `pyplot` module to verify both the MLE and the convergence to the above value"
   ],
   "metadata": {}
  },
  {
   "cell_type": "code",
   "execution_count": 16,
   "source": [
    "import numpy as np\n",
    "from matplotlib import pyplot\n",
    "times = np.arange(0, 25, 0.1)\n",
    "pyplot.plot(times, [L(t) for t in times], color='black')"
   ],
   "outputs": [
    {
     "output_type": "execute_result",
     "data": {
      "text/plain": [
       "[<matplotlib.lines.Line2D object at 0x262ec53d0>]"
      ]
     },
     "metadata": {},
     "execution_count": 16
    },
    {
     "output_type": "display_data",
     "data": {
      "text/plain": [
       "<Figure size 432x288 with 1 Axes>"
      ],
      "image/png": "[encoded data removed]"
     },
     "metadata": {
      "needs_background": "light"
     }
    }
   ],
   "metadata": {}
  },
  {
   "cell_type": "markdown",
   "source": [
    "Note also that there are shorthands for obtaining the MLEs directly without needing to first obtain the likelihood functions:"
   ],
   "metadata": {}
  },
  {
   "cell_type": "code",
   "execution_count": 18,
   "source": [
    "from cgt.distances import mle, mles\n",
    "single_mle = mle(framework, model, instance)\n",
    "multiple_mles = mles(framework, model, [instance, framework.cycles([1,2,3,-4]), framework.cycles([1,-3,-4,-2])])\n",
    "\n",
    "print(single_mle)\n",
    "print(multiple_mles)"
   ],
   "outputs": [
    {
     "output_type": "stream",
     "name": "stdout",
     "text": [
      "3.7943883204506883\n",
      "{(2,-2)(4,-4): 3.7943883204506883, (4,-4): 1.2164942500236173, (2,-3,4,-2,3,-4): nan}\n"
     ]
    }
   ],
   "metadata": {}
  },
  {
   "cell_type": "markdown",
   "source": [
    "# Computing other distance estimates"
   ],
   "metadata": {}
  },
  {
   "cell_type": "markdown",
   "source": [
    "not done yet!"
   ],
   "metadata": {}
  }
 ],
 "metadata": {
  "orig_nbformat": 4,
  "language_info": {
   "name": "python"
  }
 },
 "nbformat": 4,
 "nbformat_minor": 2
}