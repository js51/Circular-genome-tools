{
 "cells": [
  {
   "cell_type": "markdown",
   "source": [
    "## Basics\n",
    "First, import the package and everything from the enums module. `cgt` includes enums for every set of options so that your editor can provide you with the options available"
   ],
   "metadata": {}
  },
  {
   "cell_type": "code",
   "execution_count": 1,
   "source": [
    "import cgt\n",
    "from cgt.enums import *"
   ],
   "outputs": [],
   "metadata": {}
  },
  {
   "cell_type": "markdown",
   "source": [
    "We can define a `PositionParadigmFramework` under which we will model genomes. Choose to model oriented, circular genomes with five regions"
   ],
   "metadata": {}
  },
  {
   "cell_type": "code",
   "execution_count": 2,
   "source": [
    "framework = cgt.PositionParadigmFramework(5, oriented=True, symmetry=SYMMETRY.circular)\n",
    "print(framework)"
   ],
   "outputs": [
    {
     "output_type": "stream",
     "name": "stdout",
     "text": [
      "Framework for circular genomes with 5 oriented regions\n"
     ]
    }
   ],
   "metadata": {}
  },
  {
   "cell_type": "markdown",
   "source": [
    "Right away, we can look at the kinds of genomes we can represent"
   ],
   "metadata": {}
  },
  {
   "cell_type": "code",
   "execution_count": 3,
   "source": [
    "genome = framework.random_genome()\n",
    "print(genome)"
   ],
   "outputs": [
    {
     "output_type": "stream",
     "name": "stdout",
     "text": [
      "1/10*(3,-4,-5)(4,5,-3) + 1/10*(1,2,3,-5,4)(5,-4,-1,-2,-3) + 1/10*(1,3,-1,-3)(2,4)(5,-5)(-4,-2) + 1/10*(1,4,3,-2,-5)(2,5,-1,-4,-3) + 1/10*(1,5,-2,-1,-5,2)(3,-3) + 1/10*(1,-5,-3,-2,4,-1,5,3,2,-4) + 1/10*(1,-4,5,2,-3,-1,4,-5,-2,3) + 1/10*(1,-3,-5,-1,3,5)(2,-2)(4,-4) + 1/10*(1,-2)(2,-1)(3,4,-3,-4) + 1/10*(1,-1)(2,-5,-4)(4,-2,5)\n"
     ]
    }
   ],
   "metadata": {}
  },
  {
   "cell_type": "markdown",
   "source": [
    "We can view the genome in other ways, too. Select a random permutation representing the above genome. These are referred to as genome instances"
   ],
   "metadata": {}
  },
  {
   "cell_type": "code",
   "execution_count": 4,
   "source": [
    "instance = framework.random_instance(genome)\n",
    "print(instance)"
   ],
   "outputs": [
    {
     "output_type": "stream",
     "name": "stdout",
     "text": [
      "(1,5,-2,-1,-5,2)(3,-3)\n"
     ]
    }
   ],
   "metadata": {}
  },
  {
   "cell_type": "markdown",
   "source": [
    "Each genome has a canonical instance. Here canonical means the instance which maps region 1 to position 1. It is returned in one_row notation:"
   ],
   "metadata": {}
  },
  {
   "cell_type": "code",
   "execution_count": 5,
   "source": [
    "canonical_instance = framework.canonical_instance(instance)\n",
    "print(canonical_instance)"
   ],
   "outputs": [
    {
     "output_type": "stream",
     "name": "stdout",
     "text": [
      "[1, 2, -4, 5, -3]\n"
     ]
    }
   ],
   "metadata": {}
  },
  {
   "cell_type": "markdown",
   "source": [
    "...but can be convered back to cycle notation easily."
   ],
   "metadata": {}
  },
  {
   "cell_type": "code",
   "execution_count": 6,
   "source": [
    "canonical_instance = framework.cycles(canonical_instance)\n",
    "print(canonical_instance)"
   ],
   "outputs": [
    {
     "output_type": "stream",
     "name": "stdout",
     "text": [
      "(3,-4,-5)(4,5,-3)\n"
     ]
    }
   ],
   "metadata": {}
  },
  {
   "cell_type": "markdown",
   "source": [
    "We can obtain the genome from a given instace, canonical or otherwise."
   ],
   "metadata": {}
  },
  {
   "cell_type": "code",
   "execution_count": 7,
   "source": [
    "new_genome = framework.genome(instance, format=cgt.FORMAT.formal_sum)\n",
    "print(genome == new_genome)"
   ],
   "outputs": [
    {
     "output_type": "stream",
     "name": "stdout",
     "text": [
      "True\n"
     ]
    }
   ],
   "metadata": {}
  }
 ],
 "metadata": {
  "orig_nbformat": 4,
  "language_info": {
   "name": "python"
  }
 },
 "nbformat": 4,
 "nbformat_minor": 2
}