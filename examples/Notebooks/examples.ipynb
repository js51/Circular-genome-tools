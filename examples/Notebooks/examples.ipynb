{
 "cells": [
  {
   "cell_type": "markdown",
   "source": [
    "# Genomes as weighted sums of permutations in `cgt`\n",
    "First, import the package and everything from the enums module. `cgt` includes enums for every set of options so that your editor can provide you with the options available"
   ],
   "metadata": {}
  },
  {
   "cell_type": "code",
   "execution_count": 15,
   "source": [
    "import cgt\n",
    "from cgt.enums import *"
   ],
   "outputs": [],
   "metadata": {}
  },
  {
   "cell_type": "markdown",
   "source": [
    "We can define a `PositionParadigmFramework` under which we will model genomes. We can choose a number of regions to model, whether or not we want to capture orientation of the DNA in those regions, and the symmetry of the genome (for example, linear or circular). For now we will choose to model oriented, circular genomes with 4 regions. Printing the framework shows us a unique string representation."
   ],
   "metadata": {}
  },
  {
   "cell_type": "code",
   "execution_count": 16,
   "source": [
    "framework = cgt.PositionParadigmFramework(4, oriented=True, symmetry=SYMMETRY.circular)\n",
    "print(framework)"
   ],
   "outputs": [
    {
     "output_type": "stream",
     "name": "stdout",
     "text": [
      "Framework for circular genomes with 4 oriented regions\n"
     ]
    }
   ],
   "metadata": {}
  },
  {
   "cell_type": "markdown",
   "source": [
    "Right away, we can take a look at a genome. By default, genomes are weighted sums of all the permutations we can use to represent them. The larger the symmetry group, the more terms in the sum. We can think of the coefficients as the proability of obtaining the corresponding instance if we arbitrarily fixed the genome positions (ignoring the symmetry)."
   ],
   "metadata": {}
  },
  {
   "cell_type": "code",
   "execution_count": 17,
   "source": [
    "genome = framework.random_genome()\n",
    "print(genome)"
   ],
   "outputs": [
    {
     "output_type": "stream",
     "name": "stdout",
     "text": [
      "1/8*(2,4,-3)(3,-2,-4) + 1/8*(1,2)(3,-3)(4,-4)(-2,-1) + 1/8*(1,3,-4)(4,-1,-3) + 1/8*(1,4,-2,-3)(2,3,-1,-4) + 1/8*(1,-4,-2)(2,-1,4) + 1/8*(1,-3,-2,4)(2,-4,-1,3) + 1/8*(1,-2,3)(2,-3,-1) + 1/8*(1,-1)(2,-2)(3,4)(-4,-3)\n"
     ]
    }
   ],
   "metadata": {}
  },
  {
   "cell_type": "markdown",
   "source": [
    "We can view the genome in other ways, too. Select a random permutation representing the above genome. These are referred to as genome instances"
   ],
   "metadata": {}
  },
  {
   "cell_type": "code",
   "execution_count": 18,
   "source": [
    "instance = framework.random_instance(genome)\n",
    "print(instance"
   ],
   "outputs": [
    {
     "output_type": "stream",
     "name": "stdout",
     "text": [
      "(2,4,-3)(3,-2,-4)\n"
     ]
    }
   ],
   "metadata": {}
  },
  {
   "cell_type": "markdown",
   "source": [
    "Each genome has a canonical instance. Here canonical means the instance which maps region 1 to position 1. The instance is returned in one_row notation."
   ],
   "metadata": {}
  },
  {
   "cell_type": "code",
   "execution_count": 19,
   "source": [
    "canonical_instance = framework.canonical_instance(instance)\n",
    "print(canonical_instance)"
   ],
   "outputs": [
    {
     "output_type": "stream",
     "name": "stdout",
     "text": [
      "[1, 4, -2, -3]\n"
     ]
    }
   ],
   "metadata": {}
  },
  {
   "cell_type": "markdown",
   "source": [
    "...but can be convered back to cycle notation easily."
   ],
   "metadata": {}
  },
  {
   "cell_type": "code",
   "execution_count": 20,
   "source": [
    "canonical_instance = framework.cycles(canonical_instance)\n",
    "print(canonical_instance)"
   ],
   "outputs": [
    {
     "output_type": "stream",
     "name": "stdout",
     "text": [
      "(2,4,-3)(3,-2,-4)\n"
     ]
    }
   ],
   "metadata": {}
  },
  {
   "cell_type": "markdown",
   "source": [
    "We can obtain the genome from a given instace, canonical or otherwise."
   ],
   "metadata": {}
  },
  {
   "cell_type": "code",
   "execution_count": 21,
   "source": [
    "new_genome = framework.genome(instance, format=FORMAT.formal_sum)\n",
    "print(genome == new_genome)"
   ],
   "outputs": [
    {
     "output_type": "stream",
     "name": "stdout",
     "text": [
      "True\n"
     ]
    }
   ],
   "metadata": {}
  },
  {
   "cell_type": "markdown",
   "source": [
    "Below, we can see that the canonical instance from above also represents a linear genome. There are two terms because there are two ways to represent a linear genome, since we can flip the whole genome over."
   ],
   "metadata": {}
  },
  {
   "cell_type": "code",
   "execution_count": 22,
   "source": [
    "print(cgt.PositionParadigmFramework(4, symmetry=SYMMETRY.linear).genome(canonical_instance, format=FORMAT.formal_sum))"
   ],
   "outputs": [
    {
     "output_type": "stream",
     "name": "stdout",
     "text": [
      "1/2*(2,4,-3)(3,-2,-4) + 1/2*(1,-4,-2)(2,-1,4)\n"
     ]
    }
   ],
   "metadata": {}
  },
  {
   "cell_type": "markdown",
   "source": [
    "In general though, it is best to not move between frameworks like this."
   ],
   "metadata": {}
  },
  {
   "cell_type": "markdown",
   "source": [
    "# Defining a model"
   ],
   "metadata": {}
  },
  {
   "cell_type": "markdown",
   "source": [
    "To model genome rearrangements, we need to define a set of possible rearrangements, and the probability each rearrangement has of occuring. This is simple to do in `cgt` for a range of different models. Below we define a model allowing inversions of single regions or pairs of adjacent regions, and specify that it is twice as likely to see a single region inversion. We can print the model's `generating_dictionary` to see the permutations that generate the model under conjugation by the symmety group."
   ],
   "metadata": {}
  },
  {
   "cell_type": "code",
   "execution_count": 23,
   "source": [
    "model = cgt.Model.named_model_with_relative_probs(framework, {\n",
    "    cgt.MODEL.one_region_inversions: 2/3,\n",
    "    cgt.MODEL.two_region_inversions: 1/3\n",
    "})\n",
    "print(model.generating_dictionary)"
   ],
   "outputs": [
    {
     "output_type": "stream",
     "name": "stdout",
     "text": [
      "{(1,-1): 2/3, (1,-2)(2,-1): 1/3}\n"
     ]
    }
   ],
   "metadata": {}
  },
  {
   "cell_type": "markdown",
   "source": [
    "We can also obtain the `s` element as defined in [how do I do references in a notebook??]"
   ],
   "metadata": {}
  },
  {
   "cell_type": "code",
   "execution_count": 24,
   "source": [
    "s = model.s_element(in_algebra=ALGEBRA.genome)\n",
    "print(s, '\\n ...or, in the group algebra:\\n', model.s_element(in_algebra=ALGEBRA.group))"
   ],
   "outputs": [
    {
     "output_type": "stream",
     "name": "stdout",
     "text": [
      "1/3*(1,-2)(2,-1) + 2/3*(1,-1) \n",
      " ...or, in the group algebra:\n",
      " 1/6*(4,-4) + 1/12*(3,-4)(4,-3) + 1/6*(3,-3) + 1/12*(2,-3)(3,-2) + 1/6*(2,-2) + 1/12*(1,-4)(4,-1) + 1/12*(1,-2)(2,-1) + 1/6*(1,-1)\n"
     ]
    }
   ],
   "metadata": {}
  },
  {
   "cell_type": "markdown",
   "source": [
    "To obtain the 'model element' in the genome algebra, we can multiply `s` by the symmetry element. Note that the order of the multiplication is reveresed, since `SageMath` multiplies permutations from left to right."
   ],
   "metadata": {}
  },
  {
   "cell_type": "code",
   "execution_count": 25,
   "source": [
    "z = framework.symmetry_element()\n",
    "zs = s*z\n",
    "print(zs)"
   ],
   "outputs": [
    {
     "output_type": "stream",
     "name": "stdout",
     "text": [
      "1/24*(3,-4)(4,-3) + 1/12*(2,-4)(3,-3)(4,-2) + 1/24*(1,2,3,-1,-2,-3)(4,-4) + 1/12*(1,2,-1,-2)(3,-4)(4,-3) + 1/24*(1,3,-2,-4)(2,4,-1,-3) + 1/12*(1,3,-1,-3)(2,-2)(4,-4) + 1/24*(1,4,-2,-1,-4,2)(3,-3) + 1/12*(1,4,-1,-4)(2,-3)(3,-2) + 1/12*(1,-4,-3,-2,-1,4,3,2) + 1/24*(1,-4,-2,3)(2,-3,-1,4) + 1/12*(1,-3,-1,3)(2,4)(-4,-2) + 1/24*(1,-3,-4,-1,3,4)(2,-2) + 1/12*(1,-2,-3,-4,-1,2,3,4) + 1/24*(1,-2)(2,-1) + 1/12*(1,-1) + 1/24*(1,-1)(2,-4,-3,-2,4,3)\n"
     ]
    }
   ],
   "metadata": {}
  },
  {
   "cell_type": "markdown",
   "source": [
    "# Applying rearrangements"
   ],
   "metadata": {}
  },
  {
   "cell_type": "markdown",
   "source": [],
   "metadata": {}
  }
 ],
 "metadata": {
  "orig_nbformat": 4,
  "language_info": {
   "name": "python"
  }
 },
 "nbformat": 4,
 "nbformat_minor": 2
}